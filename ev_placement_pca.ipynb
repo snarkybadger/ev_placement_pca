{
 "cells": [
  {
   "cell_type": "code",
   "execution_count": null,
   "id": "6a1414c7",
   "metadata": {},
   "outputs": [],
   "source": [
    "import pandas as pd\n",
    "import os\n",
    "from sklearn.decomposition import PCA\n",
    "import numpy as np\n",
    "import matplotlib.pyplot as plt\n",
    "import seaborn as sns"
   ]
  },
  {
   "cell_type": "code",
   "execution_count": null,
   "id": "38afb111",
   "metadata": {},
   "outputs": [],
   "source": [
    "input_df=pd.read_csv('svi_clipped.csv')\n",
    "input_df.head()"
   ]
  },
  {
   "cell_type": "code",
   "execution_count": null,
   "id": "aa3f6d26",
   "metadata": {},
   "outputs": [],
   "source": [
    "select_df=input_df[['ST','STATE','STCNTY','COUNTY','FIPS','LOCATION','AREA_SQMI','E_TOTPOP','E_POV','E_PCI',\n",
    "                   'E_SNGPNT','E_MINRTY','EP_POV','EP_PCI','EPL_NOVEH']].copy()\n",
    "# select_df.count()"
   ]
  },
  {
   "cell_type": "code",
   "execution_count": null,
   "id": "16e7eb1b",
   "metadata": {},
   "outputs": [],
   "source": [
    "#subselect data\n",
    "subselect_df=select_df[['E_TOTPOP','E_POV','E_PCI','E_SNGPNT','E_MINRTY','EP_POV','EP_PCI','EPL_NOVEH']]"
   ]
  },
  {
   "cell_type": "code",
   "execution_count": null,
   "id": "91e41c2d",
   "metadata": {},
   "outputs": [],
   "source": [
    "# Scale the data to be between -1 and 1\n",
    "from sklearn.preprocessing import StandardScaler\n",
    "scaler = StandardScaler()\n",
    "X=scaler.fit_transform(subselect_df)\n",
    "X"
   ]
  },
  {
   "cell_type": "code",
   "execution_count": null,
   "id": "a88494a6",
   "metadata": {},
   "outputs": [],
   "source": [
    "#visualize data\n",
    "select_plot=select_df.plot(\n",
    "    kind='scatter',\n",
    "    x='E_TOTPOP', \n",
    "    y=['E_MINRTY'], \n",
    "    backend='plotly', \n",
    "    width=500,   \n",
    ")\n",
    "select_plot"
   ]
  },
  {
   "cell_type": "code",
   "execution_count": null,
   "id": "837c84bf",
   "metadata": {},
   "outputs": [],
   "source": [
    "pca = PCA(n_components=1)\n",
    "pca.fit(X)"
   ]
  },
  {
   "cell_type": "code",
   "execution_count": null,
   "id": "e327c76d",
   "metadata": {},
   "outputs": [],
   "source": [
    "#perform PCA\n",
    "X_pca = pca.transform(subselect_df)\n",
    "print(\"original shape:   \", X.shape)\n",
    "print(\"transformed shape:\", X_pca.shape)"
   ]
  },
  {
   "cell_type": "code",
   "execution_count": null,
   "id": "df9278e0",
   "metadata": {},
   "outputs": [],
   "source": [
    "#output pca results as csv\n",
    "np.savetxt(\"output.csv\", X_pca, delimiter=\",\")"
   ]
  },
  {
   "cell_type": "code",
   "execution_count": null,
   "id": "58a69957",
   "metadata": {},
   "outputs": [],
   "source": [
    "#take a look at ye olde data\n",
    "X_new = pca.inverse_transform(X_pca)\n",
    "plt.scatter(X[:, 0], X[:, 1], alpha=0.2)\n",
    "plt.scatter(X_new[:, 0], X_new[:, 1], alpha=0.8)\n",
    "plt.axis('equal');"
   ]
  },
  {
   "cell_type": "code",
   "execution_count": null,
   "id": "282e3ca8",
   "metadata": {},
   "outputs": [],
   "source": [
    "#bring zscore csv in, from \n",
    "zscore_df=pd.read_csv('zscore.csv')\n",
    "zscore_df.rename(columns={\"zscore\":\"ZSCORE\"},inplace=True)\n",
    "zscore_df.head()"
   ]
  },
  {
   "cell_type": "code",
   "execution_count": null,
   "id": "6d0329c1",
   "metadata": {},
   "outputs": [],
   "source": [
    "#rejoin zscore to initial dataframe\n",
    "df_all_cols = pd.concat([input_df, zscore_df], axis = 1)\n",
    "df_all_cols.head()"
   ]
  },
  {
   "cell_type": "code",
   "execution_count": null,
   "id": "e9819f3e",
   "metadata": {},
   "outputs": [],
   "source": [
    "df_all_cols.to_csv('final_output.csv')"
   ]
  }
 ],
 "metadata": {
  "kernelspec": {
   "display_name": "Python 3",
   "language": "python",
   "name": "python3"
  },
  "language_info": {
   "codemirror_mode": {
    "name": "ipython",
    "version": 3
   },
   "file_extension": ".py",
   "mimetype": "text/x-python",
   "name": "python",
   "nbconvert_exporter": "python",
   "pygments_lexer": "ipython3",
   "version": "3.8.8"
  }
 },
 "nbformat": 4,
 "nbformat_minor": 5
}
